{
  "nbformat": 4,
  "nbformat_minor": 0,
  "metadata": {
    "colab": {
      "name": "week3.ipynb",
      "provenance": [],
      "authorship_tag": "ABX9TyM5KBtNx9M/FuhtMWz+WXiy",
      "include_colab_link": true
    },
    "kernelspec": {
      "name": "python3",
      "display_name": "Python 3"
    },
    "language_info": {
      "name": "python"
    }
  },
  "cells": [
    {
      "cell_type": "markdown",
      "metadata": {
        "id": "view-in-github",
        "colab_type": "text"
      },
      "source": [
        "<a href=\"https://colab.research.google.com/github/mzakyali/SoftwareEngIT2/blob/main/week3.ipynb\" target=\"_parent\"><img src=\"https://colab.research.google.com/assets/colab-badge.svg\" alt=\"Open In Colab\"/></a>"
      ]
    },
    {
      "cell_type": "code",
      "metadata": {
        "id": "Dl8AxUanhW8f"
      },
      "source": [
        "a = 10 #Integer\n",
        "b = 3.14 #Float\n",
        "c = \"A\" #String\n",
        "d = 'Zaky' #String\n",
        "f = True #Boolean\n",
        "g = False #Boolean\n",
        "h = [] #List\n",
        "i = {} #Dictionary\n",
        "j = () #Tuple\n",
        "\n",
        "print(g)\n",
        "\n",
        "# Print\n",
        "\n",
        "print(\"Zaky\")\n",
        "print('hai hai')\n",
        "\n",
        "print(2)\n",
        "print(2+3*10)\n",
        "\n",
        "print(\"hai namaku \" + d)\n",
        "print(\"hai namaku {}\".format(d))\n",
        "\n",
        "print(\"nilainnya adalah \", +a)\n",
        "\n",
        "print(\"hai namaku {}\".format(d))\n",
        "\n",
        "print(\"nilainya adalah \" + str(c))\n",
        "\n",
        "print(\"nilainya adalah {}\".format(h))\n",
        "\n",
        "Sekolah = [\"kelas\", 10, True, 3.14, [\"bambang\",\"budi\",\"joko\"], {\"hewan\":\"gajah\"}]\n",
        "\n",
        "print(\"namaku {}, nilai Ujianku {}, dan aku orang bekasi {}\".format(d,a,f))\n",
        "\n",
        "Nama_Siswa = [\"rika\",\"ali\",\"ridho\",\"amir\",\"fatih\"]\n",
        "Nama_Siswa [0:3]\n",
        "\n",
        "Nama_Siswa[-2:]\n",
        "\n",
        "Dict1 = {\"Hewan\":\"Gajah\", 0:22, \"Boolean\":\"Benar\"}\n",
        "\n",
        "Dict1[\"Hewan\"]\n",
        "\n",
        "Dict1[0]"
      ],
      "execution_count": null,
      "outputs": []
    }
  ]
}